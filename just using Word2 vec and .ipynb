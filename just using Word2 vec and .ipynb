{
 "cells": [
  {
   "cell_type": "code",
   "execution_count": 50,
   "id": "5264dd3a",
   "metadata": {},
   "outputs": [],
   "source": [
    "\n",
    "\n",
    "import numpy as np\n",
    "import pandas as pd\n",
    "\n"
   ]
  },
  {
   "cell_type": "code",
   "execution_count": 51,
   "id": "0da91130",
   "metadata": {},
   "outputs": [],
   "source": [
    "df=pd.read_csv('data.csv')"
   ]
  },
  {
   "cell_type": "code",
   "execution_count": 52,
   "id": "47df05da",
   "metadata": {},
   "outputs": [
    {
     "name": "stdout",
     "output_type": "stream",
     "text": [
      "                                          clean_text  is_depression\n",
      "0  we understand that most people who reply immed...              1\n",
      "1  welcome to r depression s check in post a plac...              1\n",
      "2  anyone else instead of sleeping more when depr...              1\n",
      "3  i ve kind of stuffed around a lot in my life d...              1\n",
      "4  sleep is my greatest and most comforting escap...              1\n",
      "(7731, 2)\n",
      "(7650, 2)\n"
     ]
    }
   ],
   "source": [
    "print(df.head(5))\n",
    "print(df.shape)\n",
    "\n",
    "df.drop_duplicates(inplace=True)\n",
    "\n",
    "print(df.shape)\n",
    "df.rename(columns={'clean_text':'text','is_depression':'test'},inplace=True)\n"
   ]
  },
  {
   "cell_type": "code",
   "execution_count": 53,
   "id": "848d6888",
   "metadata": {},
   "outputs": [],
   "source": [
    "df.drop_duplicates(inplace=True)\n"
   ]
  },
  {
   "cell_type": "code",
   "execution_count": 54,
   "id": "3d351e9e",
   "metadata": {},
   "outputs": [],
   "source": [
    "df.rename(columns={'clean_text':'text','is_depression':'test'},inplace=True)"
   ]
  },
  {
   "cell_type": "code",
   "execution_count": 55,
   "id": "d12049bc",
   "metadata": {
    "scrolled": true
   },
   "outputs": [
    {
     "name": "stdout",
     "output_type": "stream",
     "text": [
      "                                                   text  test  \\\n",
      "0     we understand that most people who reply immed...     1   \n",
      "1     welcome to r depression s check in post a plac...     1   \n",
      "2     anyone else instead of sleeping more when depr...     1   \n",
      "3     i ve kind of stuffed around a lot in my life d...     1   \n",
      "4     sleep is my greatest and most comforting escap...     1   \n",
      "...                                                 ...   ...   \n",
      "7726                                       is that snow     0   \n",
      "7727                 moulin rouge mad me cry once again     0   \n",
      "7728  trying to shout but can t find people on the list     0   \n",
      "7729  ughh can t find my red sox hat got ta wear thi...     0   \n",
      "7730  slept wonderfully finally tried swatching for ...     0   \n",
      "\n",
      "                                         tokenized_text  \\\n",
      "0     [we, understand, that, most, people, who, repl...   \n",
      "1     [welcome, to, r, depression, s, check, in, pos...   \n",
      "2     [anyone, else, instead, of, sleeping, more, wh...   \n",
      "3     [i, ve, kind, of, stuffed, around, a, lot, in,...   \n",
      "4     [sleep, is, my, greatest, and, most, comfortin...   \n",
      "...                                                 ...   \n",
      "7726                                   [is, that, snow]   \n",
      "7727         [moulin, rouge, mad, me, cry, once, again]   \n",
      "7728  [trying, to, shout, but, can, t, find, people,...   \n",
      "7729  [ughh, can, t, find, my, red, sox, hat, got, t...   \n",
      "7730  [slept, wonderfully, finally, tried, swatching...   \n",
      "\n",
      "                                         lowercase_text  \\\n",
      "0     [we, understand, that, most, people, who, repl...   \n",
      "1     [welcome, to, r, depression, s, check, in, pos...   \n",
      "2     [anyone, else, instead, of, sleeping, more, wh...   \n",
      "3     [i, ve, kind, of, stuffed, around, a, lot, in,...   \n",
      "4     [sleep, is, my, greatest, and, most, comfortin...   \n",
      "...                                                 ...   \n",
      "7726                                   [is, that, snow]   \n",
      "7727         [moulin, rouge, mad, me, cry, once, again]   \n",
      "7728  [trying, to, shout, but, can, t, find, people,...   \n",
      "7729  [ughh, can, t, find, my, red, sox, hat, got, t...   \n",
      "7730  [slept, wonderfully, finally, tried, swatching...   \n",
      "\n",
      "                                          filtered_text  \\\n",
      "0     [understand, people, reply, immediately, op, i...   \n",
      "1     [welcome, r, depression, check, post, place, t...   \n",
      "2     [anyone, else, instead, sleeping, depressed, s...   \n",
      "3     [kind, stuffed, around, lot, life, delaying, i...   \n",
      "4     [sleep, greatest, comforting, escape, whenever...   \n",
      "...                                                 ...   \n",
      "7726                                             [snow]   \n",
      "7727                          [moulin, rouge, mad, cry]   \n",
      "7728                [trying, shout, find, people, list]   \n",
      "7729  [ughh, find, red, sox, hat, got, ta, wear, cre...   \n",
      "7730  [slept, wonderfully, finally, tried, swatching...   \n",
      "\n",
      "                                               keywords  \n",
      "0     [slept wonderfully finally tried swatching, ne...  \n",
      "1     [slept wonderfully finally tried swatching, ne...  \n",
      "2     [slept wonderfully finally tried swatching, ne...  \n",
      "3     [slept wonderfully finally tried swatching, ne...  \n",
      "4     [slept wonderfully finally tried swatching, ne...  \n",
      "...                                                 ...  \n",
      "7726  [slept wonderfully finally tried swatching, ne...  \n",
      "7727  [slept wonderfully finally tried swatching, ne...  \n",
      "7728  [slept wonderfully finally tried swatching, ne...  \n",
      "7729  [slept wonderfully finally tried swatching, ne...  \n",
      "7730  [slept wonderfully finally tried swatching, ne...  \n",
      "\n",
      "[7650 rows x 6 columns]\n"
     ]
    }
   ],
   "source": [
    "import pandas as pd\n",
    "import nltk\n",
    "from nltk.tokenize import word_tokenize\n",
    "from nltk.corpus import stopwords\n",
    "from nltk.stem import WordNetLemmatizer\n",
    "from rake_nltk import Rake\n",
    "import string\n",
    "\n",
    "\n",
    "\n",
    "# Tokenization\n",
    "df['tokenized_text'] = df['text'].apply(word_tokenize)\n",
    "\n",
    "# Lowercase conversion\n",
    "df['lowercase_text'] = df['tokenized_text'].apply(lambda x: [word.lower() for word in x])\n",
    "\n",
    "# Removing stopwords\n",
    "stop_words = set(stopwords.words('english'))\n",
    "df['filtered_text'] = df['lowercase_text'].apply(lambda x: [word for word in x if word not in stop_words])\n",
    "\n",
    "# Keyword extraction using RAKE\n",
    "r = Rake()\n",
    "df['keywords'] = df['text'].apply(lambda x: r.extract_keywords_from_text(x))\n",
    "df['keywords'] = df['text'].apply(lambda x: r.get_ranked_phrases())\n",
    "\n",
    "# Lemmatization (optional)\n",
    "# Lemmatization reduces words to their base or root form (e.g., \"running\" becomes \"run\")\n",
    "# It's optional and depends on your specific use case\n",
    "# lemmatizer = WordNetLemmatizer()\n",
    "# df['lemmatized_text'] = df['filtered_text'].apply(lambda x: [lemmatizer.lemmatize(word) for word in x])\n",
    "\n",
    "# Print the DataFrame with preprocessing results\n",
    "print(df)\n"
   ]
  },
  {
   "cell_type": "code",
   "execution_count": 56,
   "id": "ede1f23c",
   "metadata": {},
   "outputs": [
    {
     "name": "stdout",
     "output_type": "stream",
     "text": [
      "Index(['text', 'test', 'tokenized_text', 'lowercase_text', 'filtered_text',\n",
      "       'keywords'],\n",
      "      dtype='object')\n"
     ]
    }
   ],
   "source": [
    "print(df.columns)"
   ]
  },
  {
   "cell_type": "code",
   "execution_count": 57,
   "id": "2231baae",
   "metadata": {},
   "outputs": [
    {
     "data": {
      "text/plain": [
       "813"
      ]
     },
     "execution_count": 57,
     "metadata": {},
     "output_type": "execute_result"
    }
   ],
   "source": [
    "len(df['tokenized_text'][0])\n"
   ]
  },
  {
   "cell_type": "code",
   "execution_count": null,
   "id": "f0f82cb3",
   "metadata": {},
   "outputs": [],
   "source": []
  },
  {
   "cell_type": "code",
   "execution_count": 47,
   "id": "7bda7617",
   "metadata": {},
   "outputs": [
    {
     "name": "stdout",
     "output_type": "stream",
     "text": [
      "Accuracy: 0.8104575163398693\n"
     ]
    }
   ],
   "source": [
    "import numpy as np\n",
    "from gensim.models import Word2Vec\n",
    "from sklearn.ensemble import RandomForestClassifier\n",
    "from sklearn.model_selection import train_test_split\n",
    "from itertools import chain\n",
    "\n",
    "# Flatten the lists of tokenized text for Word2Vec training\n",
    "tokenized_text_flat = list(chain.from_iterable(df['tokenized_text']))\n",
    "\n",
    "# Train Word2Vec model\n",
    "word2vec_model = Word2Vec(sentences=tokenized_text_flat, vector_size=100, window=5, min_count=1, workers=4)\n",
    "\n",
    "# Convert each document into a vector representation\n",
    "def document_vector(word2vec_model, doc):\n",
    "    # Remove out-of-vocabulary words\n",
    "    doc = [word for word in doc if word in word2vec_model.wv.index_to_key]\n",
    "    if len(doc) != 0:\n",
    "        return np.mean(word2vec_model.wv[doc], axis=0)\n",
    "    else:\n",
    "        return np.zeros(word2vec_model.vector_size)\n",
    "\n",
    "# Apply Word2Vec on tokenized text\n",
    "df['word2vec_vectors'] = df['tokenized_text'].apply(lambda x: document_vector(word2vec_model, x))\n",
    "\n",
    "# Split the data into training and testing sets\n",
    "X = np.vstack(df['word2vec_vectors'].values)\n",
    "y = df['test']\n",
    "X_train, X_test, y_train, y_test = train_test_split(X, y, test_size=0.2, random_state=42)\n",
    "\n",
    "# Train Random Forest classifier\n",
    "rf_classifier = RandomForestClassifier()\n",
    "rf_classifier.fit(X_train, y_train)\n",
    "\n",
    "# Evaluate the classifier\n",
    "accuracy = rf_classifier.score(X_test, y_test)\n",
    "print(\"Accuracy:\", accuracy)\n"
   ]
  },
  {
   "cell_type": "code",
   "execution_count": 58,
   "id": "0285b256",
   "metadata": {
    "scrolled": false
   },
   "outputs": [
    {
     "name": "stdout",
     "output_type": "stream",
     "text": [
      "Best Hyperparameters: {'max_depth': None, 'min_samples_split': 10, 'n_estimators': 50}\n",
      "Accuracy: 0.8111111111111111\n"
     ]
    }
   ],
   "source": [
    "import numpy as np\n",
    "from gensim.models import Word2Vec\n",
    "from sklearn.ensemble import RandomForestClassifier\n",
    "from sklearn.model_selection import train_test_split, GridSearchCV\n",
    "from itertools import chain\n",
    "\n",
    "# Flatten the lists of tokenized text for Word2Vec training\n",
    "tokenized_text_flat = list(chain.from_iterable(df['tokenized_text']))\n",
    "\n",
    "# Train Word2Vec model\n",
    "word2vec_model = Word2Vec(sentences=tokenized_text_flat, vector_size=100, window=5, min_count=1, workers=4)\n",
    "\n",
    "# Convert each document into a vector representation\n",
    "def document_vector(word2vec_model, doc):\n",
    "    # Remove out-of-vocabulary words\n",
    "    doc = [word for word in doc if word in word2vec_model.wv.index_to_key]\n",
    "    if len(doc) != 0:\n",
    "        return np.mean(word2vec_model.wv[doc], axis=0)\n",
    "    else:\n",
    "        return np.zeros(word2vec_model.vector_size)\n",
    "\n",
    "# Apply Word2Vec on tokenized text\n",
    "df['word2vec_vectors'] = df['tokenized_text'].apply(lambda x: document_vector(word2vec_model, x))\n",
    "\n",
    "# Split the data into training and testing sets\n",
    "X = np.vstack(df['word2vec_vectors'].values)\n",
    "y = df['test']\n",
    "X_train, X_test, y_train, y_test = train_test_split(X, y, test_size=0.2, random_state=42)\n",
    "\n",
    "# Hyperparameter tuning for Random Forest classifier\n",
    "param_grid = {\n",
    "    'n_estimators': [50, 100, 200],\n",
    "    'max_depth': [None, 10, 20],\n",
    "    'min_samples_split': [2, 5, 10]\n",
    "}\n",
    "\n",
    "rf_classifier = RandomForestClassifier(random_state=42)\n",
    "grid_search = GridSearchCV(rf_classifier, param_grid, cv=5, scoring='accuracy')\n",
    "grid_search.fit(X_train, y_train)\n",
    "\n",
    "best_params = grid_search.best_params_\n",
    "\n",
    "# Train the Random Forest classifier with the best hyperparameters\n",
    "best_rf_classifier = RandomForestClassifier(random_state=42, **best_params)\n",
    "best_rf_classifier.fit(X_train, y_train)\n",
    "\n",
    "# Evaluate the classifier\n",
    "accuracy = best_rf_classifier.score(X_test, y_test)\n",
    "print(\"Best Hyperparameters:\", best_params)\n",
    "print(\"Accuracy:\", accuracy)\n"
   ]
  },
  {
   "cell_type": "code",
   "execution_count": null,
   "id": "1a0db9bd",
   "metadata": {},
   "outputs": [],
   "source": []
  },
  {
   "cell_type": "code",
   "execution_count": 60,
   "id": "efa6bb64",
   "metadata": {},
   "outputs": [
    {
     "name": "stdout",
     "output_type": "stream",
     "text": [
      "Precision: 0.8245194418986519\n",
      "Recall: 0.8111111111111111\n",
      "F1 Score: 0.8089437001523854\n",
      "\n",
      "Confusion Matrix:\n",
      "[[705  66]\n",
      " [223 536]]\n"
     ]
    }
   ],
   "source": [
    "from sklearn.metrics import precision_score, recall_score, f1_score, confusion_matrix\n",
    "\n",
    "# Predict labels for test data\n",
    "y_pred = best_rf_classifier.predict(X_test)\n",
    "\n",
    "# Calculate precision, recall, and F1 score\n",
    "precision = precision_score(y_test, y_pred, average='weighted')\n",
    "recall = recall_score(y_test, y_pred, average='weighted')\n",
    "f1 = f1_score(y_test, y_pred, average='weighted')\n",
    "\n",
    "# Print precision, recall, and F1 score\n",
    "print(\"Precision:\", precision)\n",
    "print(\"Recall:\", recall)\n",
    "print(\"F1 Score:\", f1)\n",
    "\n",
    "# Calculate confusion matrix\n",
    "conf_matrix = confusion_matrix(y_test, y_pred)\n",
    "\n",
    "# Print confusion matrix\n",
    "print(\"\\nConfusion Matrix:\")\n",
    "print(conf_matrix)\n"
   ]
  },
  {
   "cell_type": "code",
   "execution_count": 61,
   "id": "19f7325a",
   "metadata": {},
   "outputs": [
    {
     "data": {
      "image/png": "[encoded data removed]",
      "text/plain": [
       "<Figure size 800x600 with 1 Axes>"
      ]
     },
     "metadata": {},
     "output_type": "display_data"
    }
   ],
   "source": [
    "import seaborn as sns\n",
    "import matplotlib.pyplot as plt\n",
    "\n",
    "# Plot confusion matrix as heatmap\n",
    "plt.figure(figsize=(8, 6))\n",
    "sns.heatmap(conf_matrix, annot=True, cmap='Blues', fmt='g', cbar=False, \n",
    "            xticklabels=['Negative', 'Positive'], yticklabels=['Negative', 'Positive'])\n",
    "plt.title('Confusion Matrix')\n",
    "plt.xlabel('Predicted Label')\n",
    "plt.ylabel('True Label')\n",
    "plt.show()\n"
   ]
  },
  {
   "cell_type": "code",
   "execution_count": null,
   "id": "eed9cf94",
   "metadata": {},
   "outputs": [],
   "source": []
  }
 ],
 "metadata": {
  "kernelspec": {
   "display_name": "Python 3 (ipykernel)",
   "language": "python",
   "name": "python3"
  },
  "language_info": {
   "codemirror_mode": {
    "name": "ipython",
    "version": 3
   },
   "file_extension": ".py",
   "mimetype": "text/x-python",
   "name": "python",
   "nbconvert_exporter": "python",
   "pygments_lexer": "ipython3",
   "version": "3.11.4"
  }
 },
 "nbformat": 4,
 "nbformat_minor": 5
}
